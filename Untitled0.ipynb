{
  "nbformat": 4,
  "nbformat_minor": 0,
  "metadata": {
    "colab": {
      "name": "Untitled0.ipynb",
      "provenance": [],
      "collapsed_sections": [],
      "authorship_tag": "ABX9TyP6LDTXgf9FxxYKabQN64FL",
      "include_colab_link": true
    },
    "kernelspec": {
      "name": "python3",
      "display_name": "Python 3"
    },
    "language_info": {
      "name": "python"
    }
  },
  "cells": [
    {
      "cell_type": "markdown",
      "metadata": {
        "id": "view-in-github",
        "colab_type": "text"
      },
      "source": [
        "<a href=\"https://colab.research.google.com/github/DolrajRijal/helloworld/blob/main/Untitled0.ipynb\" target=\"_parent\"><img src=\"https://colab.research.google.com/assets/colab-badge.svg\" alt=\"Open In Colab\"/></a>"
      ]
    },
    {
      "cell_type": "code",
      "execution_count": 11,
      "metadata": {
        "colab": {
          "base_uri": "https://localhost:8080/"
        },
        "id": "ZMvywc9-3kww",
        "outputId": "cf6e4a4b-c4fa-410a-ef49-f67929850471"
      },
      "outputs": [
        {
          "output_type": "stream",
          "name": "stdout",
          "text": [
            "   month_number  facecream  facewash  toothpaste  bathingsoap  shampoo  \\\n",
            "0             1       2500      1500        5200         9200     1200   \n",
            "1             2       2630      1200        5100         6100     2100   \n",
            "2             3       2140      1340        4550         9550     3550   \n",
            "3             4       3400      1130        5870         8870     1870   \n",
            "4             5       3600      1740        4560         7760     1560   \n",
            "5             6       2760      1555        4890         7490     1890   \n",
            "6             7       2980      1120        4780         8980     1780   \n",
            "7             8       3700      1400        5860         9960     2860   \n",
            "8             9       3540      1780        6100         8100     2100   \n",
            "9            10       1990      1890        8300        10300     2300   \n",
            "\n",
            "   moisturizer  total_units  total_profit  \n",
            "0         1500        21100        211000  \n",
            "1         1200        18330        183300  \n",
            "2         1340        22470        224700  \n",
            "3         1130        22270        222700  \n",
            "4         1740        20960        209600  \n",
            "5         1555        20140        201400  \n",
            "6         1120        29550        295500  \n",
            "7         1400        36140        361400  \n",
            "8         1780        23400        234000  \n",
            "9         1890        26670        266700  \n"
          ]
        }
      ],
      "source": [
        "import pandas as pd\n",
        "#Url = /company_sales_data.csv\n",
        "df = pd.read_csv('/company_sales_data.csv')\n",
        "print(df.head(10))"
      ]
    },
    {
      "cell_type": "code",
      "source": [
        ""
      ],
      "metadata": {
        "id": "u86vqhZG7w6k"
      },
      "execution_count": null,
      "outputs": []
    }
  ]
}